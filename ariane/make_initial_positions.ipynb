{
 "cells": [
  {
   "cell_type": "markdown",
   "metadata": {},
   "source": [
    "# Initial positions text file for qualitative runs\n",
    "Once you want to seed a bunch of particles it seems silly to write out the whole file manually"
   ]
  },
  {
   "cell_type": "code",
   "execution_count": 2,
   "metadata": {},
   "outputs": [],
   "source": [
    "import pandas as pd\n",
    "import numpy as np"
   ]
  },
  {
   "cell_type": "code",
   "execution_count": 8,
   "metadata": {},
   "outputs": [],
   "source": [
    "z = np.arange(11.01,13.02,1)\n",
    "y = np.array(706.01)\n",
    "x = np.arange(210.01, 220.02, 1)\n",
    "t = np.arange(0.5,720,100)\n",
    "s = np.array(1.0)\n",
    "\n",
    "num = len(z)*len(x)*len(t)"
   ]
  },
  {
   "cell_type": "code",
   "execution_count": 17,
   "metadata": {},
   "outputs": [],
   "source": [
    "Z = np.tile(z,int(num/len(z)))\n",
    "X = np.tile(np.repeat(x,len(z)),int(len(t)))\n",
    "T = np.repeat(t,len(x)*len(z))\n",
    "Y = np.repeat(y,num)\n",
    "S = np.repeat(s,num)"
   ]
  },
  {
   "cell_type": "code",
   "execution_count": 23,
   "metadata": {},
   "outputs": [],
   "source": [
    "d = {'x':X,'y':Y,'z':Z,'t':T,'s':S}\n",
    "df = pd.DataFrame(d)\n",
    "\n",
    "#make sure the old initial positions file if deleted before you do this!\n",
    "df.to_csv('/data1/bbeutel/ariane-2.3.0_03/testing/qual/initial_positions.txt', header=None, index=None, sep='\\t', mode='a')\n"
   ]
  },
  {
   "cell_type": "code",
   "execution_count": null,
   "metadata": {},
   "outputs": [],
   "source": []
  }
 ],
 "metadata": {
  "kernelspec": {
   "display_name": "LObecca",
   "language": "python",
   "name": "python3"
  },
  "language_info": {
   "codemirror_mode": {
    "name": "ipython",
    "version": 3
   },
   "file_extension": ".py",
   "mimetype": "text/x-python",
   "name": "python",
   "nbconvert_exporter": "python",
   "pygments_lexer": "ipython3",
   "version": "3.9.17"
  }
 },
 "nbformat": 4,
 "nbformat_minor": 2
}
