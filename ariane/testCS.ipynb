{
 "cells": [
  {
   "cell_type": "code",
   "execution_count": 136,
   "metadata": {},
   "outputs": [],
   "source": [
    "from lo_tools import plotting_functions as lo_plot\n",
    "from datetime import timedelta\n",
    "import datetime\n",
    "from pathlib import Path\n",
    "import numpy as np\n",
    "import xarray as xr\n",
    "import matplotlib.pyplot as plt"
   ]
  },
  {
   "cell_type": "code",
   "execution_count": 3,
   "metadata": {},
   "outputs": [],
   "source": [
    "def get_his_fn_from_dt(dt):\n",
    "\n",
    "    path = Path(\"/data1/parker/LO_roms\")\n",
    "    # This creates the Path of a history file from its datetime\n",
    "    if dt.hour == 0:\n",
    "        # perfect restart does not write the 0001 file\n",
    "        dt = dt - timedelta(days=1)\n",
    "        his_num = '0025'\n",
    "    else:\n",
    "        his_num = ('0000' + str(dt.hour + 1))[-4:]\n",
    "    date_string = dt.strftime('%Y.%m.%d')\n",
    "    fn = path / 'cas6_v0_live' / ('f' + date_string) / ('ocean_his_' + his_num + '.nc')\n",
    "    return fn"
   ]
  },
  {
   "cell_type": "code",
   "execution_count": 6,
   "metadata": {},
   "outputs": [],
   "source": [
    "dt = datetime.datetime(2018,1,1)\n",
    "fn = get_his_fn_from_dt(dt)"
   ]
  },
  {
   "cell_type": "code",
   "execution_count": 16,
   "metadata": {},
   "outputs": [],
   "source": [
    "x = np.arange(192,319)\n",
    "y = np.repeat(706,len(x))\n",
    "\n",
    "all = lo_plot.get_sect(fn,'u',x,y) # don't thik this is the one, did not get any z info\n",
    "\n",
    "all[0]; # x in the centre of the cell\n",
    "all[1];  # y\n",
    "all[2]; # distance in km\n",
    "all[3]; # i think the same again\n",
    "all[4]; # jsut all zeros, same with 5\n",
    "all[6]; # 2 and 3 but with 30 in depth\n",
    "all[7]; # nans, same with 8\n",
    "all[9]; # lon, but for whaterver reason jsut so many of them\n",
    "all[10]; # lats, again.. so many\n"
   ]
  },
  {
   "cell_type": "code",
   "execution_count": 80,
   "metadata": {},
   "outputs": [],
   "source": [
    "hm = lo_plot.get_zfull(0,fn,'rho')[:,706,192:319] # i think this is it!"
   ]
  },
  {
   "cell_type": "code",
   "execution_count": 79,
   "metadata": {},
   "outputs": [],
   "source": [
    "lo = xr.open_dataset('/data1/bbeutel/LO_user/ariane/test/back_20180309/ariane_positions_quantitative.nc')"
   ]
  },
  {
   "cell_type": "code",
   "execution_count": 133,
   "metadata": {},
   "outputs": [],
   "source": [
    "# def FluxEW(mydata, section, lonW, lonE, fjgrid, maxdepth, distlabel, ax):\n",
    "y = 706\n",
    "xmin = 192\n",
    "xmax = 319\n",
    "\n",
    "mydata = lo\n",
    "\n",
    "time = np.abs(np.max(mydata.init_t)-np.min(mydata.init_t))\n",
    "\n",
    "dist = lo_plot.get_sect(fn,'u',np.arange(xmin,xmax),np.repeat(y,(xmax-xmin)))[6]\n",
    "z = np.abs(lo_plot.get_zfull(0,fn,'rho')[:,y,xmin:xmax][::-1])\n",
    "z = np.delete(z,0,0)\n",
    "\n",
    "depths = mydata.final_z[(mydata.final_section==4)]\n",
    "transports = mydata.final_transp[(mydata.final_section==4)]/time\n",
    "\n",
    "# fig, ax = \n",
    "\n",
    "# H, xedges, yedges, im = ax.hist2d(dist, depths, bins=[np.array(f_lons[lonW-1:lonE:gridding]), \n",
    "#                                     w_depths[0]],weights= transports, cmap=cmap, vmin = t_min, vmax=t_max, density= True)"
   ]
  },
  {
   "cell_type": "code",
   "execution_count": null,
   "metadata": {},
   "outputs": [],
   "source": []
  }
 ],
 "metadata": {
  "kernelspec": {
   "display_name": "LObecca",
   "language": "python",
   "name": "python3"
  },
  "language_info": {
   "codemirror_mode": {
    "name": "ipython",
    "version": 3
   },
   "file_extension": ".py",
   "mimetype": "text/x-python",
   "name": "python",
   "nbconvert_exporter": "python",
   "pygments_lexer": "ipython3",
   "version": "3.9.17"
  }
 },
 "nbformat": 4,
 "nbformat_minor": 2
}
