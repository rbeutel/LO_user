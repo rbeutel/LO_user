{
 "cells": [
  {
   "cell_type": "markdown",
   "metadata": {},
   "source": [
    "# Getting model \"cast\" files into one dataframe with depth matched to observations"
   ]
  },
  {
   "cell_type": "code",
   "execution_count": 1,
   "metadata": {},
   "outputs": [],
   "source": [
    "import xarray as xr\n",
    "import numpy as np\n",
    "import pandas as pd\n",
    "import gsw\n",
    "from pathlib import Path\n",
    "\n",
    "import warnings\n",
    "warnings.filterwarnings(\"ignore\")"
   ]
  },
  {
   "cell_type": "code",
   "execution_count": 2,
   "metadata": {},
   "outputs": [],
   "source": [
    "def nearest(array, value):\n",
    "    array = np.asarray(array)\n",
    "    idx = (np.abs(array - value)).argmin()\n",
    "    return idx"
   ]
  },
  {
   "cell_type": "code",
   "execution_count": 5,
   "metadata": {},
   "outputs": [],
   "source": [
    "path = Path(\"/data1/bbeutel/LO_output/extract_cast/\")"
   ]
  },
  {
   "cell_type": "code",
   "execution_count": 24,
   "metadata": {},
   "outputs": [],
   "source": [
    "def read_dfo_ctd(year):    \n",
    "\n",
    "    dfo = pd.read_pickle('/data1/parker/LO_output/obs/dfo1/ctd/'+str(year)+'.p')\n",
    "\n",
    "    dfo['h'] = np.nan\n",
    "    dfo['z_model'] = np.nan\n",
    "    dfo['PT_model'] = np.nan\n",
    "    dfo['SA_model'] = np.nan\n",
    "    dfo['CT_model'] = np.nan\n",
    "    dfo['DO_model'] = np.nan\n",
    "    cid = np.arange(0,int(np.max(dfo.cid))+1,1)\n",
    "\n",
    "    files = [sorted(path.glob(\"dfo1_ctd_{}/{}.nc\".format(year,str(cid[i])))) for i in range(len(cid))]\n",
    "\n",
    "    for i in range(len(files)):\n",
    "        if len(files[i]) == 1:\n",
    "            # print(i)\n",
    "            cast = xr.open_dataset(files[i][0])\n",
    "\n",
    "            dfo.h[dfo.cid == i] = \n",
    "            dfo.z_model[dfo.cid == i] = np.array([nearest(cast.h*cast.s_rho,dfo.z[dfo.cid == i][j]) \n",
    "                                                        for j in np.array(dfo[dfo.cid == i].index)])\n",
    "            dfo.PT_model[dfo.cid == i] = np.array([cast.temp[int(dfo.z_model[j])] for j in np.array(dfo[dfo.cid == i].index)])\n",
    "            dfo.SA_model[dfo.cid == i] = np.array([cast.salt[int(dfo.z_model[j])] for j in np.array(dfo[dfo.cid == i].index)])\n",
    "            dfo.DO_model[dfo.cid == i] = np.array([cast.oxygen[int(dfo.z_model[j])] for j in np.array(dfo[dfo.cid == i].index)])\n",
    "\n",
    "\n",
    "    dfo.CT_model = gsw.CT_from_pt(dfo.SA_model, dfo.PT_model)\n",
    "\n",
    "    name = \"dfo_ctd_\"+str(year)+\".csv\"\n",
    "    dfo.to_csv(name)"
   ]
  },
  {
   "cell_type": "code",
   "execution_count": 27,
   "metadata": {},
   "outputs": [],
   "source": [
    "read_dfo_ctd(2018)"
   ]
  },
  {
   "cell_type": "code",
   "execution_count": 28,
   "metadata": {},
   "outputs": [
    {
     "ename": "KeyboardInterrupt",
     "evalue": "",
     "output_type": "error",
     "traceback": [
      "\u001b[0;31m---------------------------------------------------------------------------\u001b[0m",
      "\u001b[0;31mKeyboardInterrupt\u001b[0m                         Traceback (most recent call last)",
      "Cell \u001b[0;32mIn[28], line 1\u001b[0m\n\u001b[0;32m----> 1\u001b[0m read_dfo_ctd(\u001b[39m2021\u001b[39;49m)\n",
      "Cell \u001b[0;32mIn[24], line 21\u001b[0m, in \u001b[0;36mread_dfo_ctd\u001b[0;34m(year)\u001b[0m\n\u001b[1;32m     18\u001b[0m cast \u001b[39m=\u001b[39m xr\u001b[39m.\u001b[39mopen_dataset(files[i][\u001b[39m0\u001b[39m])\n\u001b[1;32m     20\u001b[0m dfo\u001b[39m.\u001b[39mh[dfo\u001b[39m.\u001b[39mcid \u001b[39m==\u001b[39m i] \u001b[39m=\u001b[39m cast\u001b[39m.\u001b[39mh\n\u001b[0;32m---> 21\u001b[0m dfo\u001b[39m.\u001b[39mz_model[dfo\u001b[39m.\u001b[39mcid \u001b[39m==\u001b[39m i] \u001b[39m=\u001b[39m np\u001b[39m.\u001b[39marray([nearest(cast\u001b[39m.\u001b[39mh\u001b[39m*\u001b[39mcast\u001b[39m.\u001b[39ms_rho,dfo\u001b[39m.\u001b[39mz[dfo\u001b[39m.\u001b[39mcid \u001b[39m==\u001b[39m i][j]) \n\u001b[1;32m     22\u001b[0m                                             \u001b[39mfor\u001b[39;00m j \u001b[39min\u001b[39;00m np\u001b[39m.\u001b[39marray(dfo[dfo\u001b[39m.\u001b[39mcid \u001b[39m==\u001b[39m i]\u001b[39m.\u001b[39mindex)])\n\u001b[1;32m     23\u001b[0m dfo\u001b[39m.\u001b[39mPT_model[dfo\u001b[39m.\u001b[39mcid \u001b[39m==\u001b[39m i] \u001b[39m=\u001b[39m np\u001b[39m.\u001b[39marray([cast\u001b[39m.\u001b[39mtemp[\u001b[39mint\u001b[39m(dfo\u001b[39m.\u001b[39mz_model[j])] \u001b[39mfor\u001b[39;00m j \u001b[39min\u001b[39;00m np\u001b[39m.\u001b[39marray(dfo[dfo\u001b[39m.\u001b[39mcid \u001b[39m==\u001b[39m i]\u001b[39m.\u001b[39mindex)])\n\u001b[1;32m     24\u001b[0m dfo\u001b[39m.\u001b[39mSA_model[dfo\u001b[39m.\u001b[39mcid \u001b[39m==\u001b[39m i] \u001b[39m=\u001b[39m np\u001b[39m.\u001b[39marray([cast\u001b[39m.\u001b[39msalt[\u001b[39mint\u001b[39m(dfo\u001b[39m.\u001b[39mz_model[j])] \u001b[39mfor\u001b[39;00m j \u001b[39min\u001b[39;00m np\u001b[39m.\u001b[39marray(dfo[dfo\u001b[39m.\u001b[39mcid \u001b[39m==\u001b[39m i]\u001b[39m.\u001b[39mindex)])\n",
      "Cell \u001b[0;32mIn[24], line 21\u001b[0m, in \u001b[0;36m<listcomp>\u001b[0;34m(.0)\u001b[0m\n\u001b[1;32m     18\u001b[0m cast \u001b[39m=\u001b[39m xr\u001b[39m.\u001b[39mopen_dataset(files[i][\u001b[39m0\u001b[39m])\n\u001b[1;32m     20\u001b[0m dfo\u001b[39m.\u001b[39mh[dfo\u001b[39m.\u001b[39mcid \u001b[39m==\u001b[39m i] \u001b[39m=\u001b[39m cast\u001b[39m.\u001b[39mh\n\u001b[0;32m---> 21\u001b[0m dfo\u001b[39m.\u001b[39mz_model[dfo\u001b[39m.\u001b[39mcid \u001b[39m==\u001b[39m i] \u001b[39m=\u001b[39m np\u001b[39m.\u001b[39marray([nearest(cast\u001b[39m.\u001b[39mh\u001b[39m*\u001b[39mcast\u001b[39m.\u001b[39ms_rho,dfo\u001b[39m.\u001b[39mz[dfo\u001b[39m.\u001b[39;49mcid \u001b[39m==\u001b[39;49m i][j]) \n\u001b[1;32m     22\u001b[0m                                             \u001b[39mfor\u001b[39;00m j \u001b[39min\u001b[39;00m np\u001b[39m.\u001b[39marray(dfo[dfo\u001b[39m.\u001b[39mcid \u001b[39m==\u001b[39m i]\u001b[39m.\u001b[39mindex)])\n\u001b[1;32m     23\u001b[0m dfo\u001b[39m.\u001b[39mPT_model[dfo\u001b[39m.\u001b[39mcid \u001b[39m==\u001b[39m i] \u001b[39m=\u001b[39m np\u001b[39m.\u001b[39marray([cast\u001b[39m.\u001b[39mtemp[\u001b[39mint\u001b[39m(dfo\u001b[39m.\u001b[39mz_model[j])] \u001b[39mfor\u001b[39;00m j \u001b[39min\u001b[39;00m np\u001b[39m.\u001b[39marray(dfo[dfo\u001b[39m.\u001b[39mcid \u001b[39m==\u001b[39m i]\u001b[39m.\u001b[39mindex)])\n\u001b[1;32m     24\u001b[0m dfo\u001b[39m.\u001b[39mSA_model[dfo\u001b[39m.\u001b[39mcid \u001b[39m==\u001b[39m i] \u001b[39m=\u001b[39m np\u001b[39m.\u001b[39marray([cast\u001b[39m.\u001b[39msalt[\u001b[39mint\u001b[39m(dfo\u001b[39m.\u001b[39mz_model[j])] \u001b[39mfor\u001b[39;00m j \u001b[39min\u001b[39;00m np\u001b[39m.\u001b[39marray(dfo[dfo\u001b[39m.\u001b[39mcid \u001b[39m==\u001b[39m i]\u001b[39m.\u001b[39mindex)])\n",
      "File \u001b[0;32m~/miniforge3/envs/LObecca/lib/python3.9/site-packages/pandas/core/ops/common.py:72\u001b[0m, in \u001b[0;36m_unpack_zerodim_and_defer.<locals>.new_method\u001b[0;34m(self, other)\u001b[0m\n\u001b[1;32m     68\u001b[0m             \u001b[39mreturn\u001b[39;00m \u001b[39mNotImplemented\u001b[39m\n\u001b[1;32m     70\u001b[0m other \u001b[39m=\u001b[39m item_from_zerodim(other)\n\u001b[0;32m---> 72\u001b[0m \u001b[39mreturn\u001b[39;00m method(\u001b[39mself\u001b[39;49m, other)\n",
      "File \u001b[0;32m~/miniforge3/envs/LObecca/lib/python3.9/site-packages/pandas/core/arraylike.py:42\u001b[0m, in \u001b[0;36mOpsMixin.__eq__\u001b[0;34m(self, other)\u001b[0m\n\u001b[1;32m     40\u001b[0m \u001b[39m@unpack_zerodim_and_defer\u001b[39m(\u001b[39m\"\u001b[39m\u001b[39m__eq__\u001b[39m\u001b[39m\"\u001b[39m)\n\u001b[1;32m     41\u001b[0m \u001b[39mdef\u001b[39;00m \u001b[39m__eq__\u001b[39m(\u001b[39mself\u001b[39m, other):\n\u001b[0;32m---> 42\u001b[0m     \u001b[39mreturn\u001b[39;00m \u001b[39mself\u001b[39;49m\u001b[39m.\u001b[39;49m_cmp_method(other, operator\u001b[39m.\u001b[39;49meq)\n",
      "File \u001b[0;32m~/miniforge3/envs/LObecca/lib/python3.9/site-packages/pandas/core/series.py:6245\u001b[0m, in \u001b[0;36mSeries._cmp_method\u001b[0;34m(self, other, op)\u001b[0m\n\u001b[1;32m   6242\u001b[0m \u001b[39mwith\u001b[39;00m np\u001b[39m.\u001b[39merrstate(\u001b[39mall\u001b[39m\u001b[39m=\u001b[39m\u001b[39m\"\u001b[39m\u001b[39mignore\u001b[39m\u001b[39m\"\u001b[39m):\n\u001b[1;32m   6243\u001b[0m     res_values \u001b[39m=\u001b[39m ops\u001b[39m.\u001b[39mcomparison_op(lvalues, rvalues, op)\n\u001b[0;32m-> 6245\u001b[0m \u001b[39mreturn\u001b[39;00m \u001b[39mself\u001b[39;49m\u001b[39m.\u001b[39;49m_construct_result(res_values, name\u001b[39m=\u001b[39;49mres_name)\n",
      "File \u001b[0;32m~/miniforge3/envs/LObecca/lib/python3.9/site-packages/pandas/core/series.py:3223\u001b[0m, in \u001b[0;36mSeries._construct_result\u001b[0;34m(self, result, name)\u001b[0m\n\u001b[1;32m   3219\u001b[0m     \u001b[39mreturn\u001b[39;00m (res1, res2)\n\u001b[1;32m   3221\u001b[0m \u001b[39m# We do not pass dtype to ensure that the Series constructor\u001b[39;00m\n\u001b[1;32m   3222\u001b[0m \u001b[39m#  does inference in the case where `result` has object-dtype.\u001b[39;00m\n\u001b[0;32m-> 3223\u001b[0m out \u001b[39m=\u001b[39m \u001b[39mself\u001b[39;49m\u001b[39m.\u001b[39;49m_constructor(result, index\u001b[39m=\u001b[39;49m\u001b[39mself\u001b[39;49m\u001b[39m.\u001b[39;49mindex)\n\u001b[1;32m   3224\u001b[0m out \u001b[39m=\u001b[39m out\u001b[39m.\u001b[39m__finalize__(\u001b[39mself\u001b[39m)\n\u001b[1;32m   3226\u001b[0m \u001b[39m# Set the result's name after __finalize__ is called because __finalize__\u001b[39;00m\n\u001b[1;32m   3227\u001b[0m \u001b[39m#  would set it back to self.name\u001b[39;00m\n",
      "File \u001b[0;32m~/miniforge3/envs/LObecca/lib/python3.9/site-packages/pandas/core/series.py:483\u001b[0m, in \u001b[0;36mSeries.__init__\u001b[0;34m(self, data, index, dtype, name, copy, fastpath)\u001b[0m\n\u001b[1;32m    481\u001b[0m     \u001b[39mobject\u001b[39m\u001b[39m.\u001b[39m\u001b[39m__setattr__\u001b[39m(\u001b[39mself\u001b[39m, \u001b[39m\"\u001b[39m\u001b[39m_name\u001b[39m\u001b[39m\"\u001b[39m, name)\n\u001b[1;32m    482\u001b[0m \u001b[39melse\u001b[39;00m:\n\u001b[0;32m--> 483\u001b[0m     \u001b[39mself\u001b[39;49m\u001b[39m.\u001b[39;49mname \u001b[39m=\u001b[39m name\n\u001b[1;32m    484\u001b[0m     \u001b[39mself\u001b[39m\u001b[39m.\u001b[39m_set_axis(\u001b[39m0\u001b[39m, index)\n",
      "File \u001b[0;32m~/miniforge3/envs/LObecca/lib/python3.9/site-packages/pandas/core/generic.py:5924\u001b[0m, in \u001b[0;36mNDFrame.__setattr__\u001b[0;34m(self, name, value)\u001b[0m\n\u001b[1;32m   5922\u001b[0m     \u001b[39mobject\u001b[39m\u001b[39m.\u001b[39m\u001b[39m__setattr__\u001b[39m(\u001b[39mself\u001b[39m, name, value)\n\u001b[1;32m   5923\u001b[0m \u001b[39melif\u001b[39;00m name \u001b[39min\u001b[39;00m \u001b[39mself\u001b[39m\u001b[39m.\u001b[39m_metadata:\n\u001b[0;32m-> 5924\u001b[0m     \u001b[39mobject\u001b[39;49m\u001b[39m.\u001b[39;49m\u001b[39m__setattr__\u001b[39;49m(\u001b[39mself\u001b[39;49m, name, value)\n\u001b[1;32m   5925\u001b[0m \u001b[39melse\u001b[39;00m:\n\u001b[1;32m   5926\u001b[0m     \u001b[39mtry\u001b[39;00m:\n",
      "File \u001b[0;32m~/miniforge3/envs/LObecca/lib/python3.9/site-packages/pandas/core/series.py:663\u001b[0m, in \u001b[0;36mSeries.name\u001b[0;34m(self, value)\u001b[0m\n\u001b[1;32m    661\u001b[0m \u001b[39m@name\u001b[39m\u001b[39m.\u001b[39msetter\n\u001b[1;32m    662\u001b[0m \u001b[39mdef\u001b[39;00m \u001b[39mname\u001b[39m(\u001b[39mself\u001b[39m, value: Hashable) \u001b[39m-\u001b[39m\u001b[39m>\u001b[39m \u001b[39mNone\u001b[39;00m:\n\u001b[0;32m--> 663\u001b[0m     validate_all_hashable(value, error_name\u001b[39m=\u001b[39;49m\u001b[39mf\u001b[39;49m\u001b[39m\"\u001b[39;49m\u001b[39m{\u001b[39;49;00m\u001b[39mtype\u001b[39;49m(\u001b[39mself\u001b[39;49m)\u001b[39m.\u001b[39;49m\u001b[39m__name__\u001b[39;49m\u001b[39m}\u001b[39;49;00m\u001b[39m.name\u001b[39;49m\u001b[39m\"\u001b[39;49m)\n\u001b[1;32m    664\u001b[0m     \u001b[39mobject\u001b[39m\u001b[39m.\u001b[39m\u001b[39m__setattr__\u001b[39m(\u001b[39mself\u001b[39m, \u001b[39m\"\u001b[39m\u001b[39m_name\u001b[39m\u001b[39m\"\u001b[39m, value)\n",
      "File \u001b[0;32m~/miniforge3/envs/LObecca/lib/python3.9/site-packages/pandas/core/dtypes/common.py:1725\u001b[0m, in \u001b[0;36mvalidate_all_hashable\u001b[0;34m(error_name, *args)\u001b[0m\n\u001b[1;32m   1718\u001b[0m     \u001b[39mif\u001b[39;00m typ \u001b[39mnot\u001b[39;00m \u001b[39min\u001b[39;00m [\u001b[39m\"\u001b[39m\u001b[39mgeneric\u001b[39m\u001b[39m\"\u001b[39m, \u001b[39m\"\u001b[39m\u001b[39mns\u001b[39m\u001b[39m\"\u001b[39m]:\n\u001b[1;32m   1719\u001b[0m         \u001b[39mraise\u001b[39;00m \u001b[39mValueError\u001b[39;00m(\n\u001b[1;32m   1720\u001b[0m             \u001b[39mf\u001b[39m\u001b[39m\"\u001b[39m\u001b[39m{\u001b[39;00m\u001b[39mrepr\u001b[39m(dtype\u001b[39m.\u001b[39mname)\u001b[39m}\u001b[39;00m\u001b[39m is too specific of a frequency, \u001b[39m\u001b[39m\"\u001b[39m\n\u001b[1;32m   1721\u001b[0m             \u001b[39mf\u001b[39m\u001b[39m\"\u001b[39m\u001b[39mtry passing \u001b[39m\u001b[39m{\u001b[39;00m\u001b[39mrepr\u001b[39m(dtype\u001b[39m.\u001b[39mtype\u001b[39m.\u001b[39m\u001b[39m__name__\u001b[39m)\u001b[39m}\u001b[39;00m\u001b[39m\"\u001b[39m\n\u001b[1;32m   1722\u001b[0m         )\n\u001b[0;32m-> 1725\u001b[0m \u001b[39mdef\u001b[39;00m \u001b[39mvalidate_all_hashable\u001b[39m(\u001b[39m*\u001b[39margs, error_name: \u001b[39mstr\u001b[39m \u001b[39m|\u001b[39m \u001b[39mNone\u001b[39;00m \u001b[39m=\u001b[39m \u001b[39mNone\u001b[39;00m) \u001b[39m-\u001b[39m\u001b[39m>\u001b[39m \u001b[39mNone\u001b[39;00m:\n\u001b[1;32m   1726\u001b[0m \u001b[39m    \u001b[39m\u001b[39m\"\"\"\u001b[39;00m\n\u001b[1;32m   1727\u001b[0m \u001b[39m    Return None if all args are hashable, else raise a TypeError.\u001b[39;00m\n\u001b[1;32m   1728\u001b[0m \n\u001b[0;32m   (...)\u001b[0m\n\u001b[1;32m   1742\u001b[0m \u001b[39m    None\u001b[39;00m\n\u001b[1;32m   1743\u001b[0m \u001b[39m    \"\"\"\u001b[39;00m\n\u001b[1;32m   1744\u001b[0m     \u001b[39mif\u001b[39;00m \u001b[39mnot\u001b[39;00m \u001b[39mall\u001b[39m(is_hashable(arg) \u001b[39mfor\u001b[39;00m arg \u001b[39min\u001b[39;00m args):\n",
      "\u001b[0;31mKeyboardInterrupt\u001b[0m: "
     ]
    }
   ],
   "source": [
    "read_dfo_ctd(2021)"
   ]
  },
  {
   "cell_type": "code",
   "execution_count": 22,
   "metadata": {},
   "outputs": [],
   "source": [
    "def read_dfo_bottle(year):    \n",
    "\n",
    "    dfo = pd.read_pickle('/data1/parker/LO_output/obs/dfo1/bottle/'+str(year)+'.p')\n",
    "\n",
    "    dfo['z_model'] = np.nan\n",
    "    dfo['PT_model'] = np.nan\n",
    "    dfo['SA_model'] = np.nan\n",
    "    dfo['CT_model'] = np.nan\n",
    "    dfo['DO_model'] = np.nan\n",
    "    dfo['NO3_model'] = np.nan\n",
    "    dfo['Chl_model'] = np.nan\n",
    "\n",
    "    cid = np.arange(0,int(np.max(dfo.cid))+1,1)\n",
    "\n",
    "    files = [sorted(path.glob(\"dfo1_ctd_2019/{}.nc\".format(str(cid[i])))) for i in range(len(cid))]\n",
    "\n",
    "    for i in range(len(files)):\n",
    "        if len(files[i]) == 1:\n",
    "            # print(i)\n",
    "            cast = xr.open_dataset(files[i][0])\n",
    "            dfo.z_model[dfo.cid == i] = np.array([nearest(cast.h*cast.s_rho,dfo.z[dfo.cid == i][j]) \n",
    "                                                        for j in np.array(dfo[dfo.cid == i].index) if type(dfo['NO3 (uM)'][j])==float])\n",
    "            dfo.PT_model[dfo.cid == i] = np.array([cast.temp[int(dfo.z_model[j])] for j in np.array(dfo[dfo.cid == i].index) if type(dfo['NO3 (uM)'][j])==float])\n",
    "            dfo.SA_model[dfo.cid == i] = np.array([cast.salt[int(dfo.z_model[j])] for j in np.array(dfo[dfo.cid == i].index) if type(dfo['NO3 (uM)'][j])==float])\n",
    "            dfo.DO_model[dfo.cid == i] = np.array([cast.oxygen[int(dfo.z_model[j])] for j in np.array(dfo[dfo.cid == i].index) if type(dfo['NO3 (uM)'][j])==float])\n",
    "            dfo.NO3_model[dfo.cid == i] = np.array([cast.NO3[int(dfo.z_model[j])] for j in np.array(dfo[dfo.cid == i].index) if type(dfo['NO3 (uM)'][j])==float])\n",
    "            dfo.Chl_model[dfo.cid == i] = np.array([cast.oxygen[int(dfo.z_model[j])] for j in np.array(dfo[dfo.cid == i].index) if type(dfo['NO3 (uM)'][j])==float])\n",
    "            # dont really know what to do with Chl yet but might as well take it\n",
    "\n",
    "\n",
    "    dfo.CT_model = gsw.CT_from_pt(dfo.SA_model, dfo.PT_model)\n",
    "\n",
    "    name = \"dfo_botte_\"+str(year)+\".csv\"\n",
    "    dfo.to_csv(name)"
   ]
  },
  {
   "cell_type": "code",
   "execution_count": 23,
   "metadata": {},
   "outputs": [
    {
     "ename": "type",
     "evalue": "cannot set using a list-like indexer with a different length than the value",
     "output_type": "error",
     "traceback": [
      "\u001b[0;31m---------------------------------------------------------------------------\u001b[0m",
      "\u001b[0;31mTypeError\u001b[0m                                 Traceback (most recent call last)",
      "File \u001b[0;32m~/miniforge3/envs/LObecca/lib/python3.9/site-packages/pandas/core/indexes/base.py:3802\u001b[0m, in \u001b[0;36mIndex.get_loc\u001b[0;34m(self, key, method, tolerance)\u001b[0m\n\u001b[1;32m   3801\u001b[0m \u001b[39mtry\u001b[39;00m:\n\u001b[0;32m-> 3802\u001b[0m     \u001b[39mreturn\u001b[39;00m \u001b[39mself\u001b[39;49m\u001b[39m.\u001b[39;49m_engine\u001b[39m.\u001b[39;49mget_loc(casted_key)\n\u001b[1;32m   3803\u001b[0m \u001b[39mexcept\u001b[39;00m \u001b[39mKeyError\u001b[39;00m \u001b[39mas\u001b[39;00m err:\n",
      "File \u001b[0;32m~/miniforge3/envs/LObecca/lib/python3.9/site-packages/pandas/_libs/index.pyx:138\u001b[0m, in \u001b[0;36mpandas._libs.index.IndexEngine.get_loc\u001b[0;34m()\u001b[0m\n",
      "File \u001b[0;32m~/miniforge3/envs/LObecca/lib/python3.9/site-packages/pandas/_libs/index.pyx:144\u001b[0m, in \u001b[0;36mpandas._libs.index.IndexEngine.get_loc\u001b[0;34m()\u001b[0m\n",
      "\u001b[0;31mTypeError\u001b[0m: '0        True\n1        True\n2        True\n3       False\n4       False\n        ...  \n6786    False\n6787    False\n6788    False\n6789    False\n6790    False\nName: cid, Length: 6751, dtype: bool' is an invalid key",
      "\nDuring handling of the above exception, another exception occurred:\n",
      "\u001b[0;31mInvalidIndexError\u001b[0m                         Traceback (most recent call last)",
      "File \u001b[0;32m~/miniforge3/envs/LObecca/lib/python3.9/site-packages/pandas/core/series.py:1105\u001b[0m, in \u001b[0;36mSeries.__setitem__\u001b[0;34m(self, key, value)\u001b[0m\n\u001b[1;32m   1104\u001b[0m \u001b[39mtry\u001b[39;00m:\n\u001b[0;32m-> 1105\u001b[0m     \u001b[39mself\u001b[39;49m\u001b[39m.\u001b[39;49m_set_with_engine(key, value)\n\u001b[1;32m   1106\u001b[0m \u001b[39mexcept\u001b[39;00m \u001b[39mKeyError\u001b[39;00m:\n\u001b[1;32m   1107\u001b[0m     \u001b[39m# We have a scalar (or for MultiIndex or object-dtype, scalar-like)\u001b[39;00m\n\u001b[1;32m   1108\u001b[0m     \u001b[39m#  key that is not present in self.index.\u001b[39;00m\n",
      "File \u001b[0;32m~/miniforge3/envs/LObecca/lib/python3.9/site-packages/pandas/core/series.py:1175\u001b[0m, in \u001b[0;36mSeries._set_with_engine\u001b[0;34m(self, key, value)\u001b[0m\n\u001b[1;32m   1174\u001b[0m \u001b[39mdef\u001b[39;00m \u001b[39m_set_with_engine\u001b[39m(\u001b[39mself\u001b[39m, key, value) \u001b[39m-\u001b[39m\u001b[39m>\u001b[39m \u001b[39mNone\u001b[39;00m:\n\u001b[0;32m-> 1175\u001b[0m     loc \u001b[39m=\u001b[39m \u001b[39mself\u001b[39;49m\u001b[39m.\u001b[39;49mindex\u001b[39m.\u001b[39;49mget_loc(key)\n\u001b[1;32m   1177\u001b[0m     \u001b[39m# this is equivalent to self._values[key] = value\u001b[39;00m\n",
      "File \u001b[0;32m~/miniforge3/envs/LObecca/lib/python3.9/site-packages/pandas/core/indexes/base.py:3809\u001b[0m, in \u001b[0;36mIndex.get_loc\u001b[0;34m(self, key, method, tolerance)\u001b[0m\n\u001b[1;32m   3805\u001b[0m \u001b[39mexcept\u001b[39;00m \u001b[39mTypeError\u001b[39;00m:\n\u001b[1;32m   3806\u001b[0m     \u001b[39m# If we have a listlike key, _check_indexing_error will raise\u001b[39;00m\n\u001b[1;32m   3807\u001b[0m     \u001b[39m#  InvalidIndexError. Otherwise we fall through and re-raise\u001b[39;00m\n\u001b[1;32m   3808\u001b[0m     \u001b[39m#  the TypeError.\u001b[39;00m\n\u001b[0;32m-> 3809\u001b[0m     \u001b[39mself\u001b[39;49m\u001b[39m.\u001b[39;49m_check_indexing_error(key)\n\u001b[1;32m   3810\u001b[0m     \u001b[39mraise\u001b[39;00m\n",
      "File \u001b[0;32m~/miniforge3/envs/LObecca/lib/python3.9/site-packages/pandas/core/indexes/base.py:5925\u001b[0m, in \u001b[0;36mIndex._check_indexing_error\u001b[0;34m(self, key)\u001b[0m\n\u001b[1;32m   5922\u001b[0m \u001b[39mif\u001b[39;00m \u001b[39mnot\u001b[39;00m is_scalar(key):\n\u001b[1;32m   5923\u001b[0m     \u001b[39m# if key is not a scalar, directly raise an error (the code below\u001b[39;00m\n\u001b[1;32m   5924\u001b[0m     \u001b[39m# would convert to numpy arrays and raise later any way) - GH29926\u001b[39;00m\n\u001b[0;32m-> 5925\u001b[0m     \u001b[39mraise\u001b[39;00m InvalidIndexError(key)\n",
      "\u001b[0;31mInvalidIndexError\u001b[0m: 0        True\n1        True\n2        True\n3       False\n4       False\n        ...  \n6786    False\n6787    False\n6788    False\n6789    False\n6790    False\nName: cid, Length: 6751, dtype: bool",
      "\nDuring handling of the above exception, another exception occurred:\n",
      "\u001b[0;31mValueError\u001b[0m                                Traceback (most recent call last)",
      "Cell \u001b[0;32mIn[23], line 1\u001b[0m\n\u001b[0;32m----> 1\u001b[0m read_dfo_bottle(\u001b[39m2017\u001b[39;49m)\n",
      "Cell \u001b[0;32mIn[22], line 21\u001b[0m, in \u001b[0;36mread_dfo_bottle\u001b[0;34m(year)\u001b[0m\n\u001b[1;32m     18\u001b[0m \u001b[39mif\u001b[39;00m \u001b[39mlen\u001b[39m(files[i]) \u001b[39m==\u001b[39m \u001b[39m1\u001b[39m:\n\u001b[1;32m     19\u001b[0m     \u001b[39m# print(i)\u001b[39;00m\n\u001b[1;32m     20\u001b[0m     cast \u001b[39m=\u001b[39m xr\u001b[39m.\u001b[39mopen_dataset(files[i][\u001b[39m0\u001b[39m])\n\u001b[0;32m---> 21\u001b[0m     dfo\u001b[39m.\u001b[39;49mz_model[dfo\u001b[39m.\u001b[39;49mcid \u001b[39m==\u001b[39;49m i] \u001b[39m=\u001b[39m np\u001b[39m.\u001b[39marray([nearest(cast\u001b[39m.\u001b[39mh\u001b[39m*\u001b[39mcast\u001b[39m.\u001b[39ms_rho,dfo\u001b[39m.\u001b[39mz[dfo\u001b[39m.\u001b[39mcid \u001b[39m==\u001b[39m i][j]) \n\u001b[1;32m     22\u001b[0m                                                 \u001b[39mfor\u001b[39;00m j \u001b[39min\u001b[39;00m np\u001b[39m.\u001b[39marray(dfo[dfo\u001b[39m.\u001b[39mcid \u001b[39m==\u001b[39m i]\u001b[39m.\u001b[39mindex) \u001b[39mif\u001b[39;00m \u001b[39mtype\u001b[39m(dfo[\u001b[39m'\u001b[39m\u001b[39mNO3 (uM)\u001b[39m\u001b[39m'\u001b[39m][j])\u001b[39m==\u001b[39m\u001b[39mfloat\u001b[39m])\n\u001b[1;32m     23\u001b[0m     dfo\u001b[39m.\u001b[39mPT_model[dfo\u001b[39m.\u001b[39mcid \u001b[39m==\u001b[39m i] \u001b[39m=\u001b[39m np\u001b[39m.\u001b[39marray([cast\u001b[39m.\u001b[39mtemp[\u001b[39mint\u001b[39m(dfo\u001b[39m.\u001b[39mz_model[j])] \u001b[39mfor\u001b[39;00m j \u001b[39min\u001b[39;00m np\u001b[39m.\u001b[39marray(dfo[dfo\u001b[39m.\u001b[39mcid \u001b[39m==\u001b[39m i]\u001b[39m.\u001b[39mindex) \u001b[39mif\u001b[39;00m \u001b[39mtype\u001b[39m(dfo[\u001b[39m'\u001b[39m\u001b[39mNO3 (uM)\u001b[39m\u001b[39m'\u001b[39m][j])\u001b[39m==\u001b[39m\u001b[39mfloat\u001b[39m])\n\u001b[1;32m     24\u001b[0m     dfo\u001b[39m.\u001b[39mSA_model[dfo\u001b[39m.\u001b[39mcid \u001b[39m==\u001b[39m i] \u001b[39m=\u001b[39m np\u001b[39m.\u001b[39marray([cast\u001b[39m.\u001b[39msalt[\u001b[39mint\u001b[39m(dfo\u001b[39m.\u001b[39mz_model[j])] \u001b[39mfor\u001b[39;00m j \u001b[39min\u001b[39;00m np\u001b[39m.\u001b[39marray(dfo[dfo\u001b[39m.\u001b[39mcid \u001b[39m==\u001b[39m i]\u001b[39m.\u001b[39mindex) \u001b[39mif\u001b[39;00m \u001b[39mtype\u001b[39m(dfo[\u001b[39m'\u001b[39m\u001b[39mNO3 (uM)\u001b[39m\u001b[39m'\u001b[39m][j])\u001b[39m==\u001b[39m\u001b[39mfloat\u001b[39m])\n",
      "File \u001b[0;32m~/miniforge3/envs/LObecca/lib/python3.9/site-packages/pandas/core/series.py:1156\u001b[0m, in \u001b[0;36mSeries.__setitem__\u001b[0;34m(self, key, value)\u001b[0m\n\u001b[1;32m   1146\u001b[0m \u001b[39mif\u001b[39;00m (\n\u001b[1;32m   1147\u001b[0m     is_list_like(value)\n\u001b[1;32m   1148\u001b[0m     \u001b[39mand\u001b[39;00m \u001b[39mlen\u001b[39m(value) \u001b[39m!=\u001b[39m \u001b[39mlen\u001b[39m(\u001b[39mself\u001b[39m)\n\u001b[0;32m   (...)\u001b[0m\n\u001b[1;32m   1153\u001b[0m     \u001b[39m#  _where call below\u001b[39;00m\n\u001b[1;32m   1154\u001b[0m     \u001b[39m# GH#44265\u001b[39;00m\n\u001b[1;32m   1155\u001b[0m     indexer \u001b[39m=\u001b[39m key\u001b[39m.\u001b[39mnonzero()[\u001b[39m0\u001b[39m]\n\u001b[0;32m-> 1156\u001b[0m     \u001b[39mself\u001b[39;49m\u001b[39m.\u001b[39;49m_set_values(indexer, value)\n\u001b[1;32m   1157\u001b[0m     \u001b[39mreturn\u001b[39;00m\n\u001b[1;32m   1159\u001b[0m \u001b[39m# otherwise with listlike other we interpret series[mask] = other\u001b[39;00m\n\u001b[1;32m   1160\u001b[0m \u001b[39m#  as series[mask] = other[mask]\u001b[39;00m\n",
      "File \u001b[0;32m~/miniforge3/envs/LObecca/lib/python3.9/site-packages/pandas/core/series.py:1215\u001b[0m, in \u001b[0;36mSeries._set_values\u001b[0;34m(self, key, value)\u001b[0m\n\u001b[1;32m   1212\u001b[0m \u001b[39mif\u001b[39;00m \u001b[39misinstance\u001b[39m(key, (Index, Series)):\n\u001b[1;32m   1213\u001b[0m     key \u001b[39m=\u001b[39m key\u001b[39m.\u001b[39m_values\n\u001b[0;32m-> 1215\u001b[0m \u001b[39mself\u001b[39m\u001b[39m.\u001b[39m_mgr \u001b[39m=\u001b[39m \u001b[39mself\u001b[39;49m\u001b[39m.\u001b[39;49m_mgr\u001b[39m.\u001b[39;49msetitem(indexer\u001b[39m=\u001b[39;49mkey, value\u001b[39m=\u001b[39;49mvalue)\n\u001b[1;32m   1216\u001b[0m \u001b[39mself\u001b[39m\u001b[39m.\u001b[39m_maybe_update_cacher()\n",
      "File \u001b[0;32m~/miniforge3/envs/LObecca/lib/python3.9/site-packages/pandas/core/internals/managers.py:393\u001b[0m, in \u001b[0;36mBaseBlockManager.setitem\u001b[0;34m(self, indexer, value)\u001b[0m\n\u001b[1;32m    388\u001b[0m \u001b[39mif\u001b[39;00m _using_copy_on_write() \u001b[39mand\u001b[39;00m \u001b[39mnot\u001b[39;00m \u001b[39mself\u001b[39m\u001b[39m.\u001b[39m_has_no_reference(\u001b[39m0\u001b[39m):\n\u001b[1;32m    389\u001b[0m     \u001b[39m# if being referenced -> perform Copy-on-Write and clear the reference\u001b[39;00m\n\u001b[1;32m    390\u001b[0m     \u001b[39m# this method is only called if there is a single block -> hardcoded 0\u001b[39;00m\n\u001b[1;32m    391\u001b[0m     \u001b[39mself\u001b[39m \u001b[39m=\u001b[39m \u001b[39mself\u001b[39m\u001b[39m.\u001b[39mcopy()\n\u001b[0;32m--> 393\u001b[0m \u001b[39mreturn\u001b[39;00m \u001b[39mself\u001b[39;49m\u001b[39m.\u001b[39;49mapply(\u001b[39m\"\u001b[39;49m\u001b[39msetitem\u001b[39;49m\u001b[39m\"\u001b[39;49m, indexer\u001b[39m=\u001b[39;49mindexer, value\u001b[39m=\u001b[39;49mvalue)\n",
      "File \u001b[0;32m~/miniforge3/envs/LObecca/lib/python3.9/site-packages/pandas/core/internals/managers.py:352\u001b[0m, in \u001b[0;36mBaseBlockManager.apply\u001b[0;34m(self, f, align_keys, ignore_failures, **kwargs)\u001b[0m\n\u001b[1;32m    350\u001b[0m         applied \u001b[39m=\u001b[39m b\u001b[39m.\u001b[39mapply(f, \u001b[39m*\u001b[39m\u001b[39m*\u001b[39mkwargs)\n\u001b[1;32m    351\u001b[0m     \u001b[39melse\u001b[39;00m:\n\u001b[0;32m--> 352\u001b[0m         applied \u001b[39m=\u001b[39m \u001b[39mgetattr\u001b[39;49m(b, f)(\u001b[39m*\u001b[39;49m\u001b[39m*\u001b[39;49mkwargs)\n\u001b[1;32m    353\u001b[0m \u001b[39mexcept\u001b[39;00m (\u001b[39mTypeError\u001b[39;00m, \u001b[39mNotImplementedError\u001b[39;00m):\n\u001b[1;32m    354\u001b[0m     \u001b[39mif\u001b[39;00m \u001b[39mnot\u001b[39;00m ignore_failures:\n",
      "File \u001b[0;32m~/miniforge3/envs/LObecca/lib/python3.9/site-packages/pandas/core/internals/blocks.py:969\u001b[0m, in \u001b[0;36mBlock.setitem\u001b[0;34m(self, indexer, value)\u001b[0m\n\u001b[1;32m    966\u001b[0m     values \u001b[39m=\u001b[39m values\u001b[39m.\u001b[39mT\n\u001b[1;32m    968\u001b[0m \u001b[39m# length checking\u001b[39;00m\n\u001b[0;32m--> 969\u001b[0m check_setitem_lengths(indexer, value, values)\n\u001b[1;32m    971\u001b[0m value \u001b[39m=\u001b[39m extract_array(value, extract_numpy\u001b[39m=\u001b[39m\u001b[39mTrue\u001b[39;00m)\n\u001b[1;32m    972\u001b[0m \u001b[39mtry\u001b[39;00m:\n",
      "File \u001b[0;32m~/miniforge3/envs/LObecca/lib/python3.9/site-packages/pandas/core/indexers/utils.py:170\u001b[0m, in \u001b[0;36mcheck_setitem_lengths\u001b[0;34m(indexer, value, values)\u001b[0m\n\u001b[1;32m    164\u001b[0m         indexer \u001b[39m=\u001b[39m np\u001b[39m.\u001b[39marray(indexer)\n\u001b[1;32m    165\u001b[0m     \u001b[39mif\u001b[39;00m \u001b[39mnot\u001b[39;00m (\n\u001b[1;32m    166\u001b[0m         \u001b[39misinstance\u001b[39m(indexer, np\u001b[39m.\u001b[39mndarray)\n\u001b[1;32m    167\u001b[0m         \u001b[39mand\u001b[39;00m indexer\u001b[39m.\u001b[39mdtype \u001b[39m==\u001b[39m np\u001b[39m.\u001b[39mbool_\n\u001b[1;32m    168\u001b[0m         \u001b[39mand\u001b[39;00m indexer\u001b[39m.\u001b[39msum() \u001b[39m==\u001b[39m \u001b[39mlen\u001b[39m(value)\n\u001b[1;32m    169\u001b[0m     ):\n\u001b[0;32m--> 170\u001b[0m         \u001b[39mraise\u001b[39;00m \u001b[39mValueError\u001b[39;00m(\n\u001b[1;32m    171\u001b[0m             \u001b[39m\"\u001b[39m\u001b[39mcannot set using a list-like indexer \u001b[39m\u001b[39m\"\u001b[39m\n\u001b[1;32m    172\u001b[0m             \u001b[39m\"\u001b[39m\u001b[39mwith a different length than the value\u001b[39m\u001b[39m\"\u001b[39m\n\u001b[1;32m    173\u001b[0m         )\n\u001b[1;32m    174\u001b[0m \u001b[39mif\u001b[39;00m \u001b[39mnot\u001b[39;00m \u001b[39mlen\u001b[39m(indexer):\n\u001b[1;32m    175\u001b[0m     no_op \u001b[39m=\u001b[39m \u001b[39mTrue\u001b[39;00m\n",
      "\u001b[0;31mValueError\u001b[0m: cannot set using a list-like indexer with a different length than the value"
     ]
    }
   ],
   "source": [
    "read_dfo_bottle(2017)"
   ]
  },
  {
   "cell_type": "code",
   "execution_count": null,
   "metadata": {},
   "outputs": [],
   "source": []
  }
 ],
 "metadata": {
  "kernelspec": {
   "display_name": "LObecca",
   "language": "python",
   "name": "python3"
  },
  "language_info": {
   "codemirror_mode": {
    "name": "ipython",
    "version": 3
   },
   "file_extension": ".py",
   "mimetype": "text/x-python",
   "name": "python",
   "nbconvert_exporter": "python",
   "pygments_lexer": "ipython3",
   "version": "3.9.16"
  },
  "orig_nbformat": 4
 },
 "nbformat": 4,
 "nbformat_minor": 2
}
