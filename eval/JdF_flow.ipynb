{
 "cells": [
  {
   "cell_type": "markdown",
   "metadata": {},
   "source": [
    "# What's the flow rate through JdF in the months we were comparing to CIOPS?"
   ]
  },
  {
   "cell_type": "code",
   "execution_count": 28,
   "metadata": {},
   "outputs": [],
   "source": [
    "import xarray as xr\n",
    "import numpy as np\n",
    "import datetime\n",
    "import matplotlib.pyplot as plt\n",
    "import math\n",
    "from pathlib import Path\n",
    "from lo_tools import plotting_functions as lo_plot\n",
    "from datetime import timedelta"
   ]
  },
  {
   "cell_type": "code",
   "execution_count": 2,
   "metadata": {},
   "outputs": [],
   "source": [
    "grid = xr.open_dataset('/data1/parker/LO_data/grids/cas6/grid.nc')\n",
    "\n",
    "x = 316\n",
    "ymin = 897   \n",
    "ymax = 946"
   ]
  },
  {
   "cell_type": "code",
   "execution_count": 3,
   "metadata": {},
   "outputs": [],
   "source": [
    "def get_his_fn_from_dt(dt):\n",
    "\n",
    "    path = Path(\"/data1/parker/LO_roms\")\n",
    "    # This creates the Path of a history file from its datetime\n",
    "    if dt.hour == 0:\n",
    "        # perfect restart does not write the 0001 file\n",
    "        dt = dt - timedelta(days=1)\n",
    "        his_num = '0025'\n",
    "    else:\n",
    "        his_num = ('0000' + str(dt.hour + 1))[-4:]\n",
    "    date_string = dt.strftime('%Y.%m.%d')\n",
    "    fn = path / 'cas6_v0_live' / ('f' + date_string) / ('ocean_his_' + his_num + '.nc')\n",
    "    return fn\n",
    "\n",
    "def haversine(lat1, lon1, lat2, lon2):\n",
    "    R = 6371  # Earth's radius in kilometers\n",
    "    lat1, lon1, lat2, lon2 = map(math.radians, [lat1, lon1, lat2, lon2])\n",
    "\n",
    "    dlat = lat2 - lat1\n",
    "    dlon = lon2 - lon1\n",
    "\n",
    "    a = math.sin(dlat / 2) ** 2 + math.cos(lat1) * math.cos(lat2) * math.sin(dlon / 2) ** 2\n",
    "    c = 2 * math.atan2(math.sqrt(a), math.sqrt(1 - a))\n",
    "\n",
    "    distance = R * c * 1000 # Distance in meters\n",
    "\n",
    "    return distance"
   ]
  },
  {
   "cell_type": "code",
   "execution_count": 4,
   "metadata": {},
   "outputs": [],
   "source": [
    "days = 30\n",
    "# for the 2018 winter run\n",
    "start = datetime.datetime(2018,2,7)\n",
    "dates = [start + timedelta(hours=i) for i in range(days*24)]\n",
    "fn = [get_his_fn_from_dt(date) for date in dates]"
   ]
  },
  {
   "cell_type": "code",
   "execution_count": 30,
   "metadata": {},
   "outputs": [],
   "source": [
    "# since width of the JdF will remain constant throughout the run...\n",
    "data = xr.open_dataset(fn[0])\n",
    "\n",
    "ys = np.arange(ymin,ymax+2)\n",
    "\n",
    "dist = [haversine(data.lat_u[ys[i],x], data.lon_u[ys[i],x], data.lat_u[ys[i+1],x], data.lon_u[ys[i+1],x]) for i in range(len(ys)-1)]\n"
   ]
  },
  {
   "cell_type": "code",
   "execution_count": 31,
   "metadata": {},
   "outputs": [],
   "source": [
    "width, _ = np.meshgrid(dist, np.zeros(30))"
   ]
  },
  {
   "cell_type": "code",
   "execution_count": 16,
   "metadata": {},
   "outputs": [],
   "source": [
    "# what if i calculated z differently and width differently..?\n",
    "flow = 0\n",
    "\n",
    "for f in fn:\n",
    "\n",
    "    # dist = lo_plot.get_sect(f,'u',np.repeat(x,(ymax+1)-(ymin-1)),np.arange(ymin-1,ymax+1))[6]\n",
    "    # # z = lo_plot.get_zfull(0,f,'u')[:,ymin:ymax+1,x]\n",
    "\n",
    "    # width = dist[:,1:]-dist[:,:-1]\n",
    "\n",
    "    data = xr.open_dataset(f)\n",
    "    u = data.u.sel(eta_u=slice(ymin, ymax+1), xi_u=x).squeeze(dim='ocean_time')\n",
    "\n",
    "    z = ((-1*data.Cs_w[::-1])*(grid.h+data.zeta[0]))[:,ymin:ymax+1,x]\n",
    "    height = (z[1:,:].values-z[:-1,:].values)   \n",
    "\n",
    "    flow += np.nansum(np.where(u>0, u, 0)*height*width)"
   ]
  },
  {
   "cell_type": "code",
   "execution_count": 17,
   "metadata": {},
   "outputs": [
    {
     "data": {
      "text/plain": [
       "431722.4379695686"
      ]
     },
     "execution_count": 17,
     "metadata": {},
     "output_type": "execute_result"
    }
   ],
   "source": [
    "flow/(len(dates))"
   ]
  },
  {
   "cell_type": "code",
   "execution_count": 26,
   "metadata": {},
   "outputs": [],
   "source": [
    "# what if i calculated z differently (but didn't flip bc i'm not 110% sure that's correct) and width differently..?\n",
    "# i should say that my hunch is that it is right to flip.. because i assume the the smallest spacing should be at the surface\n",
    "\n",
    "flow = 0\n",
    "\n",
    "for f in fn:\n",
    "\n",
    "    # dist = lo_plot.get_sect(f,'u',np.repeat(x,(ymax+1)-(ymin-1)),np.arange(ymin-1,ymax+1))[6]\n",
    "    # # z = lo_plot.get_zfull(0,f,'u')[:,ymin:ymax+1,x]\n",
    "\n",
    "    # width = dist[:,1:]-dist[:,:-1]\n",
    "\n",
    "    data = xr.open_dataset(f)\n",
    "    u = data.u.sel(eta_u=slice(ymin, ymax+1), xi_u=x).squeeze(dim='ocean_time')\n",
    "\n",
    "    z = (((1+data.Cs_w))*(grid.h+data.zeta[0]))[:,ymin:ymax+1,x]\n",
    "    height = (z[1:,:].values-z[:-1,:].values)   \n",
    "\n",
    "    flow += np.nansum(np.where(u>0, u, 0)*height*width)"
   ]
  },
  {
   "cell_type": "code",
   "execution_count": 27,
   "metadata": {},
   "outputs": [
    {
     "data": {
      "text/plain": [
       "584959.1971882147"
      ]
     },
     "execution_count": 27,
     "metadata": {},
     "output_type": "execute_result"
    }
   ],
   "source": [
    "flow/(len(dates))"
   ]
  },
  {
   "cell_type": "code",
   "execution_count": null,
   "metadata": {},
   "outputs": [],
   "source": []
  }
 ],
 "metadata": {
  "kernelspec": {
   "display_name": "LObecca",
   "language": "python",
   "name": "python3"
  },
  "language_info": {
   "codemirror_mode": {
    "name": "ipython",
    "version": 3
   },
   "file_extension": ".py",
   "mimetype": "text/x-python",
   "name": "python",
   "nbconvert_exporter": "python",
   "pygments_lexer": "ipython3",
   "version": "3.9.17"
  }
 },
 "nbformat": 4,
 "nbformat_minor": 2
}
